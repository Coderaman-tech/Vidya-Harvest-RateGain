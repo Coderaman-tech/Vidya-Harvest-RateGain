{
 "cells": [
  {
   "cell_type": "code",
   "execution_count": 4,
   "metadata": {},
   "outputs": [],
   "source": [
    "# !pip install selenium"
   ]
  },
  {
   "cell_type": "code",
   "execution_count": 3,
   "metadata": {},
   "outputs": [],
   "source": [
    "from selenium import webdriver\n",
    "from selenium.webdriver.common.by import By\n",
    "from time import sleep"
   ]
  },
  {
   "cell_type": "code",
   "execution_count": 5,
   "metadata": {},
   "outputs": [],
   "source": [
    "browser = webdriver.Chrome()"
   ]
  },
  {
   "cell_type": "code",
   "execution_count": 14,
   "metadata": {},
   "outputs": [],
   "source": [
    "browser.get('https://rategain.com/blog')"
   ]
  },
  {
   "cell_type": "code",
   "execution_count": 7,
   "metadata": {},
   "outputs": [],
   "source": [
    "browser.maximize_window()"
   ]
  },
  {
   "cell_type": "code",
   "execution_count": 8,
   "metadata": {},
   "outputs": [],
   "source": [
    "# get the input elements\n",
    "input_search = browser.find_element(By.ID, 'twotabsearchtextbox')\n",
    "search_button = browser.find_element(By.XPATH, \"(//input[@type='submit'])[1]\")"
   ]
  },
  {
   "cell_type": "code",
   "execution_count": 9,
   "metadata": {},
   "outputs": [],
   "source": [
    "# send the input to the webpage\n",
    "input_search.send_keys(\"Smartphones under 10000\")\n",
    "sleep(1)\n",
    "search_button.click()\n"
   ]
  },
  {
   "cell_type": "code",
   "execution_count": 41,
   "metadata": {},
   "outputs": [
    {
     "name": "stdout",
     "output_type": "stream",
     "text": [
      "Scraping page 1\n",
      "Scraping page 2\n"
     ]
    },
    {
     "ename": "ElementClickInterceptedException",
     "evalue": "Message: element click intercepted: Element is not clickable at point (628, 3584)\n  (Session info: chrome=119.0.6045.160)\nStacktrace:\n\tGetHandleVerifier [0x00007FF6308D82B2+55298]\n\t(No symbol) [0x00007FF630845E02]\n\t(No symbol) [0x00007FF6307005AB]\n\t(No symbol) [0x00007FF630747A77]\n\t(No symbol) [0x00007FF630745E39]\n\t(No symbol) [0x00007FF630743C08]\n\t(No symbol) [0x00007FF630742C8A]\n\t(No symbol) [0x00007FF6307387BF]\n\t(No symbol) [0x00007FF6307620AA]\n\t(No symbol) [0x00007FF6307380CF]\n\t(No symbol) [0x00007FF6307622C0]\n\t(No symbol) [0x00007FF63077AAA4]\n\t(No symbol) [0x00007FF630761E83]\n\t(No symbol) [0x00007FF63073670A]\n\t(No symbol) [0x00007FF630737964]\n\tGetHandleVerifier [0x00007FF630C50AAB+3694587]\n\tGetHandleVerifier [0x00007FF630CA728E+4048862]\n\tGetHandleVerifier [0x00007FF630C9F173+4015811]\n\tGetHandleVerifier [0x00007FF6309747D6+695590]\n\t(No symbol) [0x00007FF630850CE8]\n\t(No symbol) [0x00007FF63084CF34]\n\t(No symbol) [0x00007FF63084D062]\n\t(No symbol) [0x00007FF63083D3A3]\n\tBaseThreadInitThunk [0x00007FFF1CC27344+20]\n\tRtlUserThreadStart [0x00007FFF1DF826B1+33]\n",
     "output_type": "error",
     "traceback": [
      "\u001b[1;31m---------------------------------------------------------------------------\u001b[0m",
      "\u001b[1;31mElementClickInterceptedException\u001b[0m          Traceback (most recent call last)",
      "\u001b[1;32m<ipython-input-41-2cf9f99b9aeb>\u001b[0m in \u001b[0;36m<module>\u001b[1;34m\u001b[0m\n\u001b[0;32m      6\u001b[0m         \u001b[0mproducts\u001b[0m\u001b[1;33m.\u001b[0m\u001b[0mappend\u001b[0m\u001b[1;33m(\u001b[0m\u001b[0mp\u001b[0m\u001b[1;33m.\u001b[0m\u001b[0mtext\u001b[0m\u001b[1;33m)\u001b[0m\u001b[1;33m\u001b[0m\u001b[1;33m\u001b[0m\u001b[0m\n\u001b[0;32m      7\u001b[0m     \u001b[0mnext_button\u001b[0m \u001b[1;33m=\u001b[0m \u001b[0mbrowser\u001b[0m\u001b[1;33m.\u001b[0m\u001b[0mfind_element\u001b[0m\u001b[1;33m(\u001b[0m\u001b[0mBy\u001b[0m\u001b[1;33m.\u001b[0m\u001b[0mXPATH\u001b[0m\u001b[1;33m,\u001b[0m \u001b[1;34m\"//a[@class='next page-numbers']\"\u001b[0m\u001b[1;33m)\u001b[0m\u001b[1;33m\u001b[0m\u001b[1;33m\u001b[0m\u001b[0m\n\u001b[1;32m----> 8\u001b[1;33m     \u001b[0mnext_button\u001b[0m\u001b[1;33m.\u001b[0m\u001b[0mclick\u001b[0m\u001b[1;33m(\u001b[0m\u001b[1;33m)\u001b[0m\u001b[1;33m\u001b[0m\u001b[1;33m\u001b[0m\u001b[0m\n\u001b[0m\u001b[0;32m      9\u001b[0m     \u001b[0msleep\u001b[0m\u001b[1;33m(\u001b[0m\u001b[1;36m1\u001b[0m\u001b[1;33m)\u001b[0m\u001b[1;33m\u001b[0m\u001b[1;33m\u001b[0m\u001b[0m\n",
      "\u001b[1;32m~\\anaconda3\\lib\\site-packages\\selenium\\webdriver\\remote\\webelement.py\u001b[0m in \u001b[0;36mclick\u001b[1;34m(self)\u001b[0m\n\u001b[0;32m     91\u001b[0m     \u001b[1;32mdef\u001b[0m \u001b[0mclick\u001b[0m\u001b[1;33m(\u001b[0m\u001b[0mself\u001b[0m\u001b[1;33m)\u001b[0m \u001b[1;33m->\u001b[0m \u001b[1;32mNone\u001b[0m\u001b[1;33m:\u001b[0m\u001b[1;33m\u001b[0m\u001b[1;33m\u001b[0m\u001b[0m\n\u001b[0;32m     92\u001b[0m         \u001b[1;34m\"\"\"Clicks the element.\"\"\"\u001b[0m\u001b[1;33m\u001b[0m\u001b[1;33m\u001b[0m\u001b[0m\n\u001b[1;32m---> 93\u001b[1;33m         \u001b[0mself\u001b[0m\u001b[1;33m.\u001b[0m\u001b[0m_execute\u001b[0m\u001b[1;33m(\u001b[0m\u001b[0mCommand\u001b[0m\u001b[1;33m.\u001b[0m\u001b[0mCLICK_ELEMENT\u001b[0m\u001b[1;33m)\u001b[0m\u001b[1;33m\u001b[0m\u001b[1;33m\u001b[0m\u001b[0m\n\u001b[0m\u001b[0;32m     94\u001b[0m \u001b[1;33m\u001b[0m\u001b[0m\n\u001b[0;32m     95\u001b[0m     \u001b[1;32mdef\u001b[0m \u001b[0msubmit\u001b[0m\u001b[1;33m(\u001b[0m\u001b[0mself\u001b[0m\u001b[1;33m)\u001b[0m\u001b[1;33m:\u001b[0m\u001b[1;33m\u001b[0m\u001b[1;33m\u001b[0m\u001b[0m\n",
      "\u001b[1;32m~\\anaconda3\\lib\\site-packages\\selenium\\webdriver\\remote\\webelement.py\u001b[0m in \u001b[0;36m_execute\u001b[1;34m(self, command, params)\u001b[0m\n\u001b[0;32m    392\u001b[0m             \u001b[0mparams\u001b[0m \u001b[1;33m=\u001b[0m \u001b[1;33m{\u001b[0m\u001b[1;33m}\u001b[0m\u001b[1;33m\u001b[0m\u001b[1;33m\u001b[0m\u001b[0m\n\u001b[0;32m    393\u001b[0m         \u001b[0mparams\u001b[0m\u001b[1;33m[\u001b[0m\u001b[1;34m\"id\"\u001b[0m\u001b[1;33m]\u001b[0m \u001b[1;33m=\u001b[0m \u001b[0mself\u001b[0m\u001b[1;33m.\u001b[0m\u001b[0m_id\u001b[0m\u001b[1;33m\u001b[0m\u001b[1;33m\u001b[0m\u001b[0m\n\u001b[1;32m--> 394\u001b[1;33m         \u001b[1;32mreturn\u001b[0m \u001b[0mself\u001b[0m\u001b[1;33m.\u001b[0m\u001b[0m_parent\u001b[0m\u001b[1;33m.\u001b[0m\u001b[0mexecute\u001b[0m\u001b[1;33m(\u001b[0m\u001b[0mcommand\u001b[0m\u001b[1;33m,\u001b[0m \u001b[0mparams\u001b[0m\u001b[1;33m)\u001b[0m\u001b[1;33m\u001b[0m\u001b[1;33m\u001b[0m\u001b[0m\n\u001b[0m\u001b[0;32m    395\u001b[0m \u001b[1;33m\u001b[0m\u001b[0m\n\u001b[0;32m    396\u001b[0m     \u001b[1;32mdef\u001b[0m \u001b[0mfind_element\u001b[0m\u001b[1;33m(\u001b[0m\u001b[0mself\u001b[0m\u001b[1;33m,\u001b[0m \u001b[0mby\u001b[0m\u001b[1;33m=\u001b[0m\u001b[0mBy\u001b[0m\u001b[1;33m.\u001b[0m\u001b[0mID\u001b[0m\u001b[1;33m,\u001b[0m \u001b[0mvalue\u001b[0m\u001b[1;33m=\u001b[0m\u001b[1;32mNone\u001b[0m\u001b[1;33m)\u001b[0m \u001b[1;33m->\u001b[0m \u001b[0mWebElement\u001b[0m\u001b[1;33m:\u001b[0m\u001b[1;33m\u001b[0m\u001b[1;33m\u001b[0m\u001b[0m\n",
      "\u001b[1;32m~\\anaconda3\\lib\\site-packages\\selenium\\webdriver\\remote\\webdriver.py\u001b[0m in \u001b[0;36mexecute\u001b[1;34m(self, driver_command, params)\u001b[0m\n\u001b[0;32m    345\u001b[0m         \u001b[0mresponse\u001b[0m \u001b[1;33m=\u001b[0m \u001b[0mself\u001b[0m\u001b[1;33m.\u001b[0m\u001b[0mcommand_executor\u001b[0m\u001b[1;33m.\u001b[0m\u001b[0mexecute\u001b[0m\u001b[1;33m(\u001b[0m\u001b[0mdriver_command\u001b[0m\u001b[1;33m,\u001b[0m \u001b[0mparams\u001b[0m\u001b[1;33m)\u001b[0m\u001b[1;33m\u001b[0m\u001b[1;33m\u001b[0m\u001b[0m\n\u001b[0;32m    346\u001b[0m         \u001b[1;32mif\u001b[0m \u001b[0mresponse\u001b[0m\u001b[1;33m:\u001b[0m\u001b[1;33m\u001b[0m\u001b[1;33m\u001b[0m\u001b[0m\n\u001b[1;32m--> 347\u001b[1;33m             \u001b[0mself\u001b[0m\u001b[1;33m.\u001b[0m\u001b[0merror_handler\u001b[0m\u001b[1;33m.\u001b[0m\u001b[0mcheck_response\u001b[0m\u001b[1;33m(\u001b[0m\u001b[0mresponse\u001b[0m\u001b[1;33m)\u001b[0m\u001b[1;33m\u001b[0m\u001b[1;33m\u001b[0m\u001b[0m\n\u001b[0m\u001b[0;32m    348\u001b[0m             \u001b[0mresponse\u001b[0m\u001b[1;33m[\u001b[0m\u001b[1;34m\"value\"\u001b[0m\u001b[1;33m]\u001b[0m \u001b[1;33m=\u001b[0m \u001b[0mself\u001b[0m\u001b[1;33m.\u001b[0m\u001b[0m_unwrap_value\u001b[0m\u001b[1;33m(\u001b[0m\u001b[0mresponse\u001b[0m\u001b[1;33m.\u001b[0m\u001b[0mget\u001b[0m\u001b[1;33m(\u001b[0m\u001b[1;34m\"value\"\u001b[0m\u001b[1;33m,\u001b[0m \u001b[1;32mNone\u001b[0m\u001b[1;33m)\u001b[0m\u001b[1;33m)\u001b[0m\u001b[1;33m\u001b[0m\u001b[1;33m\u001b[0m\u001b[0m\n\u001b[0;32m    349\u001b[0m             \u001b[1;32mreturn\u001b[0m \u001b[0mresponse\u001b[0m\u001b[1;33m\u001b[0m\u001b[1;33m\u001b[0m\u001b[0m\n",
      "\u001b[1;32m~\\anaconda3\\lib\\site-packages\\selenium\\webdriver\\remote\\errorhandler.py\u001b[0m in \u001b[0;36mcheck_response\u001b[1;34m(self, response)\u001b[0m\n\u001b[0;32m    227\u001b[0m                 \u001b[0malert_text\u001b[0m \u001b[1;33m=\u001b[0m \u001b[0mvalue\u001b[0m\u001b[1;33m[\u001b[0m\u001b[1;34m\"alert\"\u001b[0m\u001b[1;33m]\u001b[0m\u001b[1;33m.\u001b[0m\u001b[0mget\u001b[0m\u001b[1;33m(\u001b[0m\u001b[1;34m\"text\"\u001b[0m\u001b[1;33m)\u001b[0m\u001b[1;33m\u001b[0m\u001b[1;33m\u001b[0m\u001b[0m\n\u001b[0;32m    228\u001b[0m             \u001b[1;32mraise\u001b[0m \u001b[0mexception_class\u001b[0m\u001b[1;33m(\u001b[0m\u001b[0mmessage\u001b[0m\u001b[1;33m,\u001b[0m \u001b[0mscreen\u001b[0m\u001b[1;33m,\u001b[0m \u001b[0mstacktrace\u001b[0m\u001b[1;33m,\u001b[0m \u001b[0malert_text\u001b[0m\u001b[1;33m)\u001b[0m  \u001b[1;31m# type: ignore[call-arg]  # mypy is not smart enough here\u001b[0m\u001b[1;33m\u001b[0m\u001b[1;33m\u001b[0m\u001b[0m\n\u001b[1;32m--> 229\u001b[1;33m         \u001b[1;32mraise\u001b[0m \u001b[0mexception_class\u001b[0m\u001b[1;33m(\u001b[0m\u001b[0mmessage\u001b[0m\u001b[1;33m,\u001b[0m \u001b[0mscreen\u001b[0m\u001b[1;33m,\u001b[0m \u001b[0mstacktrace\u001b[0m\u001b[1;33m)\u001b[0m\u001b[1;33m\u001b[0m\u001b[1;33m\u001b[0m\u001b[0m\n\u001b[0m",
      "\u001b[1;31mElementClickInterceptedException\u001b[0m: Message: element click intercepted: Element is not clickable at point (628, 3584)\n  (Session info: chrome=119.0.6045.160)\nStacktrace:\n\tGetHandleVerifier [0x00007FF6308D82B2+55298]\n\t(No symbol) [0x00007FF630845E02]\n\t(No symbol) [0x00007FF6307005AB]\n\t(No symbol) [0x00007FF630747A77]\n\t(No symbol) [0x00007FF630745E39]\n\t(No symbol) [0x00007FF630743C08]\n\t(No symbol) [0x00007FF630742C8A]\n\t(No symbol) [0x00007FF6307387BF]\n\t(No symbol) [0x00007FF6307620AA]\n\t(No symbol) [0x00007FF6307380CF]\n\t(No symbol) [0x00007FF6307622C0]\n\t(No symbol) [0x00007FF63077AAA4]\n\t(No symbol) [0x00007FF630761E83]\n\t(No symbol) [0x00007FF63073670A]\n\t(No symbol) [0x00007FF630737964]\n\tGetHandleVerifier [0x00007FF630C50AAB+3694587]\n\tGetHandleVerifier [0x00007FF630CA728E+4048862]\n\tGetHandleVerifier [0x00007FF630C9F173+4015811]\n\tGetHandleVerifier [0x00007FF6309747D6+695590]\n\t(No symbol) [0x00007FF630850CE8]\n\t(No symbol) [0x00007FF63084CF34]\n\t(No symbol) [0x00007FF63084D062]\n\t(No symbol) [0x00007FF63083D3A3]\n\tBaseThreadInitThunk [0x00007FFF1CC27344+20]\n\tRtlUserThreadStart [0x00007FFF1DF826B1+33]\n"
     ]
    }
   ],
   "source": [
    "products = []\n",
    "for i in range(10):\n",
    "    print('Scraping page', i+1)\n",
    "    product = browser.find_elements(By.XPATH, \"//div[@class='content']\")\n",
    "    for p in product:\n",
    "        products.append(p.text)\n",
    "    next_button = browser.find_element(By.XPATH, \"//a[@class='next page-numbers']\")\n",
    "    next_button.click()\n",
    "    sleep(1)"
   ]
  },
  {
   "cell_type": "code",
   "execution_count": 42,
   "metadata": {},
   "outputs": [
    {
     "data": {
      "text/plain": [
       "18"
      ]
     },
     "execution_count": 42,
     "metadata": {},
     "output_type": "execute_result"
    }
   ],
   "source": [
    "len(products)\n"
   ]
  },
  {
   "cell_type": "code",
   "execution_count": 43,
   "metadata": {},
   "outputs": [
    {
     "data": {
      "text/plain": [
       "[\"Taylor Swift's Spectacular Tour Sparks Unprecedented Hotel Booking Surge in Buenos Aires\\nNOVEMBER 23, 2023BLOG\\nBuenos Aires is experiencing a hotel booking frenzy like never before, all thanks to the enchanting melodies of Taylor Swift. The city recently played host to the global sensation's Eras tour, with three mesmerizing performances that drew in audiences from both near and far. As Swifties flocked to the Argentine capital, the hotel industry witnessed a historic surge in bookings, setting new records for the month of November. The impact of Taylor Swift's concerts reached bey...\\nRead More\\n5\",\n",
       " \"A Complete Guide to Hotel Revenue Management\\nNOVEMBER 22, 2023BLOG\\nThe hospitality sector is seeing a sharp rise in competition as entrepreneurs strive to provide their clients with a distinctive experience. Not only do they want to provide the best services, but they also increase their revenue while doing so. This is where effective hotel revenue management comes into the picture. By employing specific tactics and the right tools, you can exponentially increase your hotel's revenue. If you are looking for a guide that briefs you abou...\\nRead More\\n2\",\n",
       " \"The Ultimate Guide to Choosing the Right Hotel Booking Engine\\nNOVEMBER 22, 2023BLOG\\nAs technology continues to reshape the way travelers plan and book their accommodations, hotels must stay ahead of the curve to meet the demands of modern guests. At the heart of this digital transformation is the hotel booking engine, a critical tool that can significantly impact a guest's booking experience and a hotel's bottom line. And so, we bring to you this guide to choosing the right hotel booking engine. This ultimate guide aims to assist hoteliers in navigating t...\\nRead More\\n3\",\n",
       " 'Maximize Your Hotel’s Exposure with Google AdSense’s New \"Related Search\" Feature in Auto Ads\\nOCTOBER 20, 2023BLOG\\nAttention, hotel marketing professionals! Google AdSense has just rolled out a game-changing feature that could redefine the way you engage with potential guests: the \"Related Search\" within Auto Ads. What\\'s New Google has introduced a new feature within AdSense Auto ads called \"Related Search for Auto Ads.\" This feature allows publishers to display search terms related to the content on the pages their users are viewing. When a user chooses one of these suggested se...\\nRead More\\n32',\n",
       " 'Beyond Reach & Frequency: Hotels\\' New Era with Facebook\\'s \\'Reservation\\' Buying Type\\nOCTOBER 12, 2023BLOG\\nHey there, hoteliers and hospitality heroes! Gone are the days when Facebook\\'s \"Reach and Frequency\" was the go-to for your ad campaigns. Say a big hello to \"Reservation\" - the new kid on the block, and oh boy, does it have perks for your hotel business! Facebook Ad Buying Types Facebook offers businesses ways to purchase ad space, known as \"buying types.\" Diving deeper into the bustling world of Facebook ad strategies, it\\'s crucial to understand the landscape before...\\nRead More\\n17']"
      ]
     },
     "execution_count": 43,
     "metadata": {},
     "output_type": "execute_result"
    }
   ],
   "source": [
    "products[:5]"
   ]
  },
  {
   "cell_type": "code",
   "execution_count": null,
   "metadata": {},
   "outputs": [],
   "source": [
    "browser.quit()\n"
   ]
  },
  {
   "cell_type": "code",
   "execution_count": 54,
   "metadata": {},
   "outputs": [
    {
     "name": "stdout",
     "output_type": "stream",
     "text": [
      "Scraping page 1\n",
      "Title: Taylor Swift's Spectacular Tour Sparks Unprecedented Hotel Booking Surge in Buenos Aires\n",
      "Date: NOVEMBER 23, 2023\n",
      "Category: BLOG\n",
      "Text: Buenos Aires is experiencing a hotel booking frenzy like never before, all thanks to the enchanting melodies of Taylor Swift. The city recently played host to the global sensation's Eras tour, with three mesmerizing performances that drew in audiences from both near and far. As Swifties flocked to the Argentine capital, the hotel industry witnessed a historic surge in bookings, setting new records for the month of November. The impact of Taylor Swift's concerts reached bey...\n",
      "Link: https://rategain.com/blog/swiftie-effect-in-buenos-aires/\n",
      "\n",
      "\n",
      "Title: A Complete Guide to Hotel Revenue Management\n",
      "Date: NOVEMBER 22, 2023\n",
      "Category: BLOG\n",
      "Text: The hospitality sector is seeing a sharp rise in competition as entrepreneurs strive to provide their clients with a distinctive experience. Not only do they want to provide the best services, but they also increase their revenue while doing so. This is where effective hotel revenue management comes into the picture. By employing specific tactics and the right tools, you can exponentially increase your hotel's revenue. If you are looking for a guide that briefs you abou...\n",
      "Link: https://rategain.com/blog/guide-to-hotel-revenue-management/\n",
      "\n",
      "\n",
      "Title: The Ultimate Guide to Choosing the Right Hotel Booking Engine\n",
      "Date: NOVEMBER 22, 2023\n",
      "Category: BLOG\n",
      "Text: As technology continues to reshape the way travelers plan and book their accommodations, hotels must stay ahead of the curve to meet the demands of modern guests. At the heart of this digital transformation is the hotel booking engine, a critical tool that can significantly impact a guest's booking experience and a hotel's bottom line. And so, we bring to you this guide to choosing the right hotel booking engine. This ultimate guide aims to assist hoteliers in navigating t...\n",
      "Link: https://rategain.com/blog/guide-to-choosing-the-right-hotel-booking-engine/\n",
      "\n",
      "\n",
      "Title: Maximize Your Hotel’s Exposure with Google AdSense’s New \"Related Search\" Feature in Auto Ads\n",
      "Date: OCTOBER 20, 2023\n",
      "Category: BLOG\n",
      "Text: Attention, hotel marketing professionals! Google AdSense has just rolled out a game-changing feature that could redefine the way you engage with potential guests: the \"Related Search\" within Auto Ads. What's New Google has introduced a new feature within AdSense Auto ads called \"Related Search for Auto Ads.\" This feature allows publishers to display search terms related to the content on the pages their users are viewing. When a user chooses one of these suggested se...\n",
      "Link: https://rategain.com/blog/new-related-search-feature-in-auto-ads/\n",
      "\n",
      "\n",
      "Title: Beyond Reach & Frequency: Hotels' New Era with Facebook's 'Reservation' Buying Type\n",
      "Date: OCTOBER 12, 2023\n",
      "Category: BLOG\n",
      "Text: Hey there, hoteliers and hospitality heroes! Gone are the days when Facebook's \"Reach and Frequency\" was the go-to for your ad campaigns. Say a big hello to \"Reservation\" - the new kid on the block, and oh boy, does it have perks for your hotel business! Facebook Ad Buying Types Facebook offers businesses ways to purchase ad space, known as \"buying types.\" Diving deeper into the bustling world of Facebook ad strategies, it's crucial to understand the landscape before...\n",
      "Link: https://rategain.com/blog/facebook-reservation-buying-type/\n",
      "\n",
      "\n",
      "Title: Managing Overbookings and Cancellations with Hotel Booking Engines\n",
      "Date: OCTOBER 5, 2023\n",
      "Category: BLOG\n",
      "Text: Managing hotel reservations efficiently is critical to ensure maximum occupancy and revenue. Yet, dealing with overbookings and cancellations remains a common challenge. This is where hotel booking engines come to the rescue. Read on to discover how hoteliers can harness the power of these engines to optimize room bookings, tackle overbookings, and minimize revenue losses due to cancellations. Understanding the Challenge: Hotel Cancellations Hotel cancellations are an i...\n",
      "Link: https://rategain.com/blog/managing-overbookings-and-cancellations-with-hotel-booking-engines/\n",
      "\n",
      "\n",
      "Title: Global Distribution System (GDS) vs. Channel Manager: Which is Right for Your Hotel\n",
      "Date: OCTOBER 1, 2023\n",
      "Category: BLOG\n",
      "Text: As a hotel owner or manager, you're continually exploring ways to boost your property's visibility, manage bookings efficiently, and maximize revenue. In the realm of hotel distribution and connectivity, two essential tools are often in the spotlight: GDS vs Channel Manager. They play distinct roles in the complex world of hotel distribution, and choosing the right one can significantly impact your business's success. Let us try to understand the merits and applications of...\n",
      "Link: https://rategain.com/blog/gds-vs-channel-manager/\n",
      "\n",
      "\n",
      "Title: Jingle All the Way: Europe Christmas Travel Trends\n",
      "Date: SEPTEMBER 28, 2023\n",
      "Category: BLOG, TRENDS AND INSIGHTS\n",
      "Text: The holiday season is just around the corner, and travelers are gearing up for unforgettable experiences in Europe. As we approach December 2023, it's essential to peek into the crystal ball of travel trends for this Christmas season in Europe. Europe: Where the Holiday Magic Begins The Christmas Travel Fever Hold onto your Santa hats because hotel bookings in Europe are lighting up like a Christmas tree. We're talking about a whopping 16% year-on-year increase com...\n",
      "Link: https://rategain.com/blog/europe-christmas-travel-trends/\n",
      "\n",
      "\n",
      "Title: Why Bing Hotel Ads Should Be in Your Marketing Mix\n",
      "Date: SEPTEMBER 28, 2023\n",
      "Category: BLOG\n",
      "Text: Are you a tech-savvy hotelier looking to boost your revenue without diving into the Google ad frenzy? Look no further! Microsoft's Bing Hotel Ads could be your secret weapon. Let us explore why you should consider this platform and how it can translate into a healthier bottom line for your hotel. Why Bing Hotel Ads Matter Direct Bookings is gaining popularity due to several advantages. These include potential cost savings, flexible cancellation options, enhanced customer ...\n",
      "Link: https://rategain.com/blog/bing-hotel-ads/\n",
      "\n",
      "\n",
      "An error occurred: Message: element click intercepted: Element is not clickable at point (393, 3856)\n",
      "  (Session info: chrome=119.0.6045.160)\n",
      "Stacktrace:\n",
      "\tGetHandleVerifier [0x00007FF6308D82B2+55298]\n",
      "\t(No symbol) [0x00007FF630845E02]\n",
      "\t(No symbol) [0x00007FF6307005AB]\n",
      "\t(No symbol) [0x00007FF630747A77]\n",
      "\t(No symbol) [0x00007FF630745E39]\n",
      "\t(No symbol) [0x00007FF630743C08]\n",
      "\t(No symbol) [0x00007FF630742C8A]\n",
      "\t(No symbol) [0x00007FF6307387BF]\n",
      "\t(No symbol) [0x00007FF6307620AA]\n",
      "\t(No symbol) [0x00007FF6307380CF]\n",
      "\t(No symbol) [0x00007FF6307622C0]\n",
      "\t(No symbol) [0x00007FF63077AAA4]\n",
      "\t(No symbol) [0x00007FF630761E83]\n",
      "\t(No symbol) [0x00007FF63073670A]\n",
      "\t(No symbol) [0x00007FF630737964]\n",
      "\tGetHandleVerifier [0x00007FF630C50AAB+3694587]\n",
      "\tGetHandleVerifier [0x00007FF630CA728E+4048862]\n",
      "\tGetHandleVerifier [0x00007FF630C9F173+4015811]\n",
      "\tGetHandleVerifier [0x00007FF6309747D6+695590]\n",
      "\t(No symbol) [0x00007FF630850CE8]\n",
      "\t(No symbol) [0x00007FF63084CF34]\n",
      "\t(No symbol) [0x00007FF63084D062]\n",
      "\t(No symbol) [0x00007FF63083D3A3]\n",
      "\tBaseThreadInitThunk [0x00007FFF1CC27344+20]\n",
      "\tRtlUserThreadStart [0x00007FFF1DF826B1+33]\n",
      "\n"
     ]
    }
   ],
   "source": [
    "from selenium import webdriver\n",
    "from selenium.webdriver.common.by import By\n",
    "from selenium.webdriver.support.ui import WebDriverWait\n",
    "from selenium.webdriver.support import expected_conditions as EC\n",
    "from selenium.webdriver.common.action_chains import ActionChains\n",
    "from selenium.webdriver.common.keys import Keys\n",
    "from time import sleep\n",
    "\n",
    "# Initialize the browser\n",
    "browser = webdriver.Chrome()\n",
    "\n",
    "# Set an implicit wait to wait for elements to be present\n",
    "browser.implicitly_wait(10)\n",
    "\n",
    "# Open the website\n",
    "url = \"https://rategain.com/blog/\"\n",
    "browser.get(url)\n",
    "products = []\n",
    "\n",
    "try:\n",
    "    for i in range(10):\n",
    "        print('Scraping page', i + 1)\n",
    "\n",
    "        # Wait for the 'content' elements to be present\n",
    "        content_elements = WebDriverWait(browser, 10).until(\n",
    "            EC.presence_of_all_elements_located((By.XPATH, \"//div[@class='content']\"))\n",
    "        )\n",
    "\n",
    "        # Extract information from each 'content' element\n",
    "        for content_element in content_elements:\n",
    "            title = content_element.find_element(By.XPATH, \".//h6/a\").text\n",
    "            date = content_element.find_element(By.XPATH, \".//div[@class='blog-detail']/div[@class='bd-item'][1]/span\").text\n",
    "            category = content_element.find_element(By.XPATH, \".//div[@class='blog-detail']/div[@class='bd-item'][2]/span\").text\n",
    "            text = content_element.find_element(By.XPATH, \".//div[@class='text']\").text\n",
    "            link = content_element.find_element(By.XPATH, \".//a[@class='readmore-link']\").get_attribute('href')\n",
    "\n",
    "            # Print or store the extracted information\n",
    "            print(f\"Title: {title}\")\n",
    "            print(f\"Date: {date}\")\n",
    "            print(f\"Category: {category}\")\n",
    "            print(f\"Text: {text}\")\n",
    "            print(f\"Link: {link}\")\n",
    "            print(\"\\n\")\n",
    "\n",
    "        # Find and click the 'next' button using WebDriverWait for it to be clickable\n",
    "        next_button = WebDriverWait(browser, 10).until(\n",
    "            EC.element_to_be_clickable((By.XPATH, \"//a[@class='next page-numbers']\"))\n",
    "        )\n",
    "\n",
    "        # Scroll to the 'next' button using JavaScript\n",
    "        browser.execute_script(\"arguments[0].scrollIntoView();\", next_button)\n",
    "\n",
    "        # Click the 'next' button\n",
    "        next_button.click()\n",
    "\n",
    "        # Wait for the next page to load\n",
    "        sleep(2)  # Adjust this time based on your network speed and the website's responsiveness\n",
    "\n",
    "except Exception as e:\n",
    "    print(f\"An error occurred: {str(e)}\")\n",
    "\n",
    "finally:\n",
    "    # Close the browser\n",
    "    browser.quit()\n"
   ]
  },
  {
   "cell_type": "code",
   "execution_count": null,
   "metadata": {},
   "outputs": [],
   "source": []
  }
 ],
 "metadata": {
  "kernelspec": {
   "display_name": "Python 3",
   "language": "python",
   "name": "python3"
  },
  "language_info": {
   "codemirror_mode": {
    "name": "ipython",
    "version": 3
   },
   "file_extension": ".py",
   "mimetype": "text/x-python",
   "name": "python",
   "nbconvert_exporter": "python",
   "pygments_lexer": "ipython3",
   "version": "3.8.5"
  }
 },
 "nbformat": 4,
 "nbformat_minor": 4
}
